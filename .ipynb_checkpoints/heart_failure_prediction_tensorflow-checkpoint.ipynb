{
 "cells": [
  {
   "cell_type": "markdown",
   "metadata": {
    "id": "bz_QO2nMwfWx"
   },
   "source": [
    "# Heart Failure Classification Problem"
   ]
  },
  {
   "cell_type": "code",
   "execution_count": 1,
   "metadata": {
    "id": "D9QQYlWmwwGi"
   },
   "outputs": [],
   "source": [
    "import tensorflow as tf\n",
    "import pandas as pd\n",
    "import numpy as np\n",
    "import matplotlib.pyplot as plt"
   ]
  },
  {
   "cell_type": "code",
   "execution_count": 2,
   "metadata": {
    "colab": {
     "base_uri": "https://localhost:8080/",
     "height": 36
    },
    "id": "33GNCrimw6QC",
    "outputId": "78d5706e-0d53-4e35-ec5a-1ebb385049ba"
   },
   "outputs": [
    {
     "data": {
      "text/plain": [
       "'2.9.1'"
      ]
     },
     "execution_count": 2,
     "metadata": {},
     "output_type": "execute_result"
    }
   ],
   "source": [
    "tf.__version__"
   ]
  },
  {
   "cell_type": "code",
   "execution_count": 3,
   "metadata": {
    "colab": {
     "base_uri": "https://localhost:8080/",
     "height": 423
    },
    "id": "fkL-PN17w8M_",
    "outputId": "59e85ca9-cd1c-42d5-f33d-c63008978bdb"
   },
   "outputs": [
    {
     "data": {
      "text/html": [
       "<div>\n",
       "<style scoped>\n",
       "    .dataframe tbody tr th:only-of-type {\n",
       "        vertical-align: middle;\n",
       "    }\n",
       "\n",
       "    .dataframe tbody tr th {\n",
       "        vertical-align: top;\n",
       "    }\n",
       "\n",
       "    .dataframe thead th {\n",
       "        text-align: right;\n",
       "    }\n",
       "</style>\n",
       "<table border=\"1\" class=\"dataframe\">\n",
       "  <thead>\n",
       "    <tr style=\"text-align: right;\">\n",
       "      <th></th>\n",
       "      <th>Age</th>\n",
       "      <th>Sex</th>\n",
       "      <th>ChestPainType</th>\n",
       "      <th>RestingBP</th>\n",
       "      <th>Cholesterol</th>\n",
       "      <th>FastingBS</th>\n",
       "      <th>RestingECG</th>\n",
       "      <th>MaxHR</th>\n",
       "      <th>ExerciseAngina</th>\n",
       "      <th>Oldpeak</th>\n",
       "      <th>ST_Slope</th>\n",
       "      <th>HeartDisease</th>\n",
       "    </tr>\n",
       "  </thead>\n",
       "  <tbody>\n",
       "    <tr>\n",
       "      <th>0</th>\n",
       "      <td>40</td>\n",
       "      <td>M</td>\n",
       "      <td>ATA</td>\n",
       "      <td>140</td>\n",
       "      <td>289</td>\n",
       "      <td>0</td>\n",
       "      <td>Normal</td>\n",
       "      <td>172</td>\n",
       "      <td>N</td>\n",
       "      <td>0.0</td>\n",
       "      <td>Up</td>\n",
       "      <td>0</td>\n",
       "    </tr>\n",
       "    <tr>\n",
       "      <th>1</th>\n",
       "      <td>49</td>\n",
       "      <td>F</td>\n",
       "      <td>NAP</td>\n",
       "      <td>160</td>\n",
       "      <td>180</td>\n",
       "      <td>0</td>\n",
       "      <td>Normal</td>\n",
       "      <td>156</td>\n",
       "      <td>N</td>\n",
       "      <td>1.0</td>\n",
       "      <td>Flat</td>\n",
       "      <td>1</td>\n",
       "    </tr>\n",
       "    <tr>\n",
       "      <th>2</th>\n",
       "      <td>37</td>\n",
       "      <td>M</td>\n",
       "      <td>ATA</td>\n",
       "      <td>130</td>\n",
       "      <td>283</td>\n",
       "      <td>0</td>\n",
       "      <td>ST</td>\n",
       "      <td>98</td>\n",
       "      <td>N</td>\n",
       "      <td>0.0</td>\n",
       "      <td>Up</td>\n",
       "      <td>0</td>\n",
       "    </tr>\n",
       "    <tr>\n",
       "      <th>3</th>\n",
       "      <td>48</td>\n",
       "      <td>F</td>\n",
       "      <td>ASY</td>\n",
       "      <td>138</td>\n",
       "      <td>214</td>\n",
       "      <td>0</td>\n",
       "      <td>Normal</td>\n",
       "      <td>108</td>\n",
       "      <td>Y</td>\n",
       "      <td>1.5</td>\n",
       "      <td>Flat</td>\n",
       "      <td>1</td>\n",
       "    </tr>\n",
       "    <tr>\n",
       "      <th>4</th>\n",
       "      <td>54</td>\n",
       "      <td>M</td>\n",
       "      <td>NAP</td>\n",
       "      <td>150</td>\n",
       "      <td>195</td>\n",
       "      <td>0</td>\n",
       "      <td>Normal</td>\n",
       "      <td>122</td>\n",
       "      <td>N</td>\n",
       "      <td>0.0</td>\n",
       "      <td>Up</td>\n",
       "      <td>0</td>\n",
       "    </tr>\n",
       "    <tr>\n",
       "      <th>...</th>\n",
       "      <td>...</td>\n",
       "      <td>...</td>\n",
       "      <td>...</td>\n",
       "      <td>...</td>\n",
       "      <td>...</td>\n",
       "      <td>...</td>\n",
       "      <td>...</td>\n",
       "      <td>...</td>\n",
       "      <td>...</td>\n",
       "      <td>...</td>\n",
       "      <td>...</td>\n",
       "      <td>...</td>\n",
       "    </tr>\n",
       "    <tr>\n",
       "      <th>913</th>\n",
       "      <td>45</td>\n",
       "      <td>M</td>\n",
       "      <td>TA</td>\n",
       "      <td>110</td>\n",
       "      <td>264</td>\n",
       "      <td>0</td>\n",
       "      <td>Normal</td>\n",
       "      <td>132</td>\n",
       "      <td>N</td>\n",
       "      <td>1.2</td>\n",
       "      <td>Flat</td>\n",
       "      <td>1</td>\n",
       "    </tr>\n",
       "    <tr>\n",
       "      <th>914</th>\n",
       "      <td>68</td>\n",
       "      <td>M</td>\n",
       "      <td>ASY</td>\n",
       "      <td>144</td>\n",
       "      <td>193</td>\n",
       "      <td>1</td>\n",
       "      <td>Normal</td>\n",
       "      <td>141</td>\n",
       "      <td>N</td>\n",
       "      <td>3.4</td>\n",
       "      <td>Flat</td>\n",
       "      <td>1</td>\n",
       "    </tr>\n",
       "    <tr>\n",
       "      <th>915</th>\n",
       "      <td>57</td>\n",
       "      <td>M</td>\n",
       "      <td>ASY</td>\n",
       "      <td>130</td>\n",
       "      <td>131</td>\n",
       "      <td>0</td>\n",
       "      <td>Normal</td>\n",
       "      <td>115</td>\n",
       "      <td>Y</td>\n",
       "      <td>1.2</td>\n",
       "      <td>Flat</td>\n",
       "      <td>1</td>\n",
       "    </tr>\n",
       "    <tr>\n",
       "      <th>916</th>\n",
       "      <td>57</td>\n",
       "      <td>F</td>\n",
       "      <td>ATA</td>\n",
       "      <td>130</td>\n",
       "      <td>236</td>\n",
       "      <td>0</td>\n",
       "      <td>LVH</td>\n",
       "      <td>174</td>\n",
       "      <td>N</td>\n",
       "      <td>0.0</td>\n",
       "      <td>Flat</td>\n",
       "      <td>1</td>\n",
       "    </tr>\n",
       "    <tr>\n",
       "      <th>917</th>\n",
       "      <td>38</td>\n",
       "      <td>M</td>\n",
       "      <td>NAP</td>\n",
       "      <td>138</td>\n",
       "      <td>175</td>\n",
       "      <td>0</td>\n",
       "      <td>Normal</td>\n",
       "      <td>173</td>\n",
       "      <td>N</td>\n",
       "      <td>0.0</td>\n",
       "      <td>Up</td>\n",
       "      <td>0</td>\n",
       "    </tr>\n",
       "  </tbody>\n",
       "</table>\n",
       "<p>918 rows × 12 columns</p>\n",
       "</div>"
      ],
      "text/plain": [
       "     Age Sex ChestPainType  RestingBP  Cholesterol  FastingBS RestingECG  \\\n",
       "0     40   M           ATA        140          289          0     Normal   \n",
       "1     49   F           NAP        160          180          0     Normal   \n",
       "2     37   M           ATA        130          283          0         ST   \n",
       "3     48   F           ASY        138          214          0     Normal   \n",
       "4     54   M           NAP        150          195          0     Normal   \n",
       "..   ...  ..           ...        ...          ...        ...        ...   \n",
       "913   45   M            TA        110          264          0     Normal   \n",
       "914   68   M           ASY        144          193          1     Normal   \n",
       "915   57   M           ASY        130          131          0     Normal   \n",
       "916   57   F           ATA        130          236          0        LVH   \n",
       "917   38   M           NAP        138          175          0     Normal   \n",
       "\n",
       "     MaxHR ExerciseAngina  Oldpeak ST_Slope  HeartDisease  \n",
       "0      172              N      0.0       Up             0  \n",
       "1      156              N      1.0     Flat             1  \n",
       "2       98              N      0.0       Up             0  \n",
       "3      108              Y      1.5     Flat             1  \n",
       "4      122              N      0.0       Up             0  \n",
       "..     ...            ...      ...      ...           ...  \n",
       "913    132              N      1.2     Flat             1  \n",
       "914    141              N      3.4     Flat             1  \n",
       "915    115              Y      1.2     Flat             1  \n",
       "916    174              N      0.0     Flat             1  \n",
       "917    173              N      0.0       Up             0  \n",
       "\n",
       "[918 rows x 12 columns]"
      ]
     },
     "execution_count": 3,
     "metadata": {},
     "output_type": "execute_result"
    }
   ],
   "source": [
    "file = ('heart.csv')\n",
    "  \n",
    "df = pd.read_csv(file)\n",
    "df"
   ]
  },
  {
   "cell_type": "code",
   "execution_count": 4,
   "metadata": {
    "id": "gS4_hVxDz99G"
   },
   "outputs": [],
   "source": [
    "from sklearn.compose import make_column_transformer\n",
    "from sklearn.preprocessing import MinMaxScaler, OneHotEncoder\n",
    "from sklearn.model_selection import train_test_split\n",
    "\n",
    "# Create a column transformer \n",
    "ct = make_column_transformer(\n",
    "    (MinMaxScaler(), [\"Age\", \"RestingBP\", \"Cholesterol\", \"MaxHR\", \"Oldpeak\"]), # turn all values in these columns between 0 and 1\n",
    "    (OneHotEncoder(handle_unknown=\"ignore\"), [\"Sex\", \"ST_Slope\", \"ExerciseAngina\", \"RestingECG\", \"ChestPainType\"])\n",
    ")\n",
    "\n",
    "# Create X & y\n",
    "X = df.drop(\"HeartDisease\", axis=1)\n",
    "y = df[\"HeartDisease\"]\n",
    "\n",
    "# Build our train and test sets\n",
    "X_train, X_test, y_train, y_test = train_test_split(X, y, test_size= 0.2 , random_state=42)\n",
    "\n",
    "# Fit the column transformer to our training data\n",
    "ct.fit(X_train)\n",
    "\n",
    "# Transform training and test data with normalization (MinMaxScaler) and OneHotEncoder\n",
    "X_train_normal = ct.transform(X_train)\n",
    "X_test_normal = ct.transform(X_test)"
   ]
  },
  {
   "cell_type": "code",
   "execution_count": 5,
   "metadata": {
    "colab": {
     "base_uri": "https://localhost:8080/"
    },
    "id": "D4SB962H1Whk",
    "outputId": "23ccb482-0b77-4352-efbf-0386eaf02a6c"
   },
   "outputs": [
    {
     "data": {
      "text/plain": [
       "Age                   40\n",
       "Sex                    M\n",
       "ChestPainType        ATA\n",
       "RestingBP            140\n",
       "Cholesterol          289\n",
       "FastingBS              0\n",
       "RestingECG        Normal\n",
       "MaxHR                172\n",
       "ExerciseAngina         N\n",
       "Oldpeak              0.0\n",
       "ST_Slope              Up\n",
       "Name: 0, dtype: object"
      ]
     },
     "execution_count": 5,
     "metadata": {},
     "output_type": "execute_result"
    }
   ],
   "source": [
    "X_train.loc[0]"
   ]
  },
  {
   "cell_type": "code",
   "execution_count": 6,
   "metadata": {
    "colab": {
     "base_uri": "https://localhost:8080/"
    },
    "id": "h4mrQe4J1ZX6",
    "outputId": "f7dd965c-18ad-4209-c228-5c98012e4ac1"
   },
   "outputs": [
    {
     "data": {
      "text/plain": [
       "array([0.27083333, 0.6       , 0.39800995, 0.94366197, 0.38636364,\n",
       "       0.        , 1.        , 1.        , 0.        , 0.        ,\n",
       "       1.        , 0.        , 0.        , 1.        , 0.        ,\n",
       "       0.        , 0.        , 1.        , 0.        ])"
      ]
     },
     "execution_count": 6,
     "metadata": {},
     "output_type": "execute_result"
    }
   ],
   "source": [
    "X_train_normal[0]"
   ]
  },
  {
   "cell_type": "code",
   "execution_count": 7,
   "metadata": {
    "colab": {
     "base_uri": "https://localhost:8080/"
    },
    "id": "Zy3a4Uok1ieq",
    "outputId": "d7ebc5a5-297d-484a-dcb2-d7cdd14202ef"
   },
   "outputs": [
    {
     "name": "stderr",
     "output_type": "stream",
     "text": [
      "C:\\Users\\Yousef\\anaconda3\\lib\\site-packages\\keras\\optimizers\\optimizer_v2\\adam.py:110: UserWarning: The `lr` argument is deprecated, use `learning_rate` instead.\n",
      "  super(Adam, self).__init__(name, **kwargs)\n"
     ]
    },
    {
     "name": "stdout",
     "output_type": "stream",
     "text": [
      "Epoch 1/500\n",
      "23/23 [==============================] - 1s 5ms/step - loss: 0.6150 - accuracy: 0.7875\n",
      "Epoch 2/500\n",
      "23/23 [==============================] - 0s 4ms/step - loss: 0.4793 - accuracy: 0.8515\n",
      "Epoch 3/500\n",
      "23/23 [==============================] - 0s 3ms/step - loss: 0.3806 - accuracy: 0.8651\n",
      "Epoch 4/500\n",
      "23/23 [==============================] - 0s 5ms/step - loss: 0.3528 - accuracy: 0.8638\n",
      "Epoch 5/500\n",
      "23/23 [==============================] - 0s 4ms/step - loss: 0.3470 - accuracy: 0.8651\n",
      "Epoch 6/500\n",
      "23/23 [==============================] - 0s 4ms/step - loss: 0.3438 - accuracy: 0.8665\n",
      "Epoch 7/500\n",
      "23/23 [==============================] - 0s 4ms/step - loss: 0.3448 - accuracy: 0.8610\n",
      "Epoch 8/500\n",
      "23/23 [==============================] - 0s 4ms/step - loss: 0.3412 - accuracy: 0.8678\n",
      "Epoch 9/500\n",
      "23/23 [==============================] - 0s 4ms/step - loss: 0.3386 - accuracy: 0.8651\n",
      "Epoch 10/500\n",
      "23/23 [==============================] - 0s 4ms/step - loss: 0.3412 - accuracy: 0.8719\n",
      "Epoch 11/500\n",
      "23/23 [==============================] - 0s 4ms/step - loss: 0.3390 - accuracy: 0.8597\n",
      "Epoch 12/500\n",
      "23/23 [==============================] - 0s 4ms/step - loss: 0.3353 - accuracy: 0.8638\n",
      "Epoch 13/500\n",
      "23/23 [==============================] - 0s 4ms/step - loss: 0.3341 - accuracy: 0.8692\n",
      "Epoch 14/500\n",
      "23/23 [==============================] - 0s 4ms/step - loss: 0.3328 - accuracy: 0.8665\n",
      "Epoch 15/500\n",
      "23/23 [==============================] - 0s 4ms/step - loss: 0.3306 - accuracy: 0.8651\n",
      "Epoch 16/500\n",
      "23/23 [==============================] - 0s 4ms/step - loss: 0.3321 - accuracy: 0.8692\n",
      "Epoch 17/500\n",
      "23/23 [==============================] - 0s 4ms/step - loss: 0.3307 - accuracy: 0.8638\n",
      "Epoch 18/500\n",
      "23/23 [==============================] - 0s 6ms/step - loss: 0.3280 - accuracy: 0.8624\n",
      "Epoch 19/500\n",
      "23/23 [==============================] - 0s 4ms/step - loss: 0.3274 - accuracy: 0.8678\n",
      "Epoch 20/500\n",
      "23/23 [==============================] - 0s 4ms/step - loss: 0.3258 - accuracy: 0.8651\n",
      "Epoch 21/500\n",
      "23/23 [==============================] - 0s 4ms/step - loss: 0.3250 - accuracy: 0.8651\n",
      "Epoch 22/500\n",
      "23/23 [==============================] - 0s 4ms/step - loss: 0.3259 - accuracy: 0.8651\n",
      "Epoch 23/500\n",
      "23/23 [==============================] - 0s 5ms/step - loss: 0.3236 - accuracy: 0.8692\n",
      "Epoch 24/500\n",
      "23/23 [==============================] - 0s 4ms/step - loss: 0.3232 - accuracy: 0.8651\n",
      "Epoch 25/500\n",
      "23/23 [==============================] - 0s 4ms/step - loss: 0.3222 - accuracy: 0.8719\n",
      "Epoch 26/500\n",
      "23/23 [==============================] - 0s 5ms/step - loss: 0.3216 - accuracy: 0.8692\n",
      "Epoch 27/500\n",
      "23/23 [==============================] - 0s 4ms/step - loss: 0.3207 - accuracy: 0.8665\n",
      "Epoch 28/500\n",
      "23/23 [==============================] - 0s 4ms/step - loss: 0.3226 - accuracy: 0.8692\n",
      "Epoch 29/500\n",
      "23/23 [==============================] - 0s 4ms/step - loss: 0.3197 - accuracy: 0.8665\n",
      "Epoch 30/500\n",
      "23/23 [==============================] - 0s 4ms/step - loss: 0.3221 - accuracy: 0.8760\n",
      "Epoch 31/500\n",
      "23/23 [==============================] - 0s 4ms/step - loss: 0.3174 - accuracy: 0.8760\n",
      "Epoch 32/500\n",
      "23/23 [==============================] - 0s 4ms/step - loss: 0.3195 - accuracy: 0.8692\n",
      "Epoch 33/500\n",
      "23/23 [==============================] - 0s 4ms/step - loss: 0.3195 - accuracy: 0.8665\n",
      "Epoch 34/500\n",
      "23/23 [==============================] - 0s 4ms/step - loss: 0.3181 - accuracy: 0.8733\n",
      "Epoch 35/500\n",
      "23/23 [==============================] - 0s 4ms/step - loss: 0.3163 - accuracy: 0.8774\n",
      "Epoch 36/500\n",
      "23/23 [==============================] - 0s 4ms/step - loss: 0.3138 - accuracy: 0.8733\n",
      "Epoch 37/500\n",
      "23/23 [==============================] - 0s 4ms/step - loss: 0.3144 - accuracy: 0.8706\n",
      "Epoch 38/500\n",
      "23/23 [==============================] - 0s 4ms/step - loss: 0.3137 - accuracy: 0.8747\n",
      "Epoch 39/500\n",
      "23/23 [==============================] - 0s 4ms/step - loss: 0.3144 - accuracy: 0.8692\n",
      "Epoch 40/500\n",
      "23/23 [==============================] - 0s 4ms/step - loss: 0.3131 - accuracy: 0.8747\n",
      "Epoch 41/500\n",
      "23/23 [==============================] - 0s 5ms/step - loss: 0.3118 - accuracy: 0.8733\n",
      "Epoch 42/500\n",
      "23/23 [==============================] - 0s 4ms/step - loss: 0.3133 - accuracy: 0.8706\n",
      "Epoch 43/500\n",
      "23/23 [==============================] - 0s 4ms/step - loss: 0.3127 - accuracy: 0.8760\n",
      "Epoch 44/500\n",
      "23/23 [==============================] - 0s 4ms/step - loss: 0.3117 - accuracy: 0.8719\n",
      "Epoch 45/500\n",
      "23/23 [==============================] - 0s 5ms/step - loss: 0.3097 - accuracy: 0.8692\n",
      "Epoch 46/500\n",
      "23/23 [==============================] - 0s 4ms/step - loss: 0.3099 - accuracy: 0.8760\n",
      "Epoch 47/500\n",
      "23/23 [==============================] - 0s 4ms/step - loss: 0.3130 - accuracy: 0.8747\n",
      "Epoch 48/500\n",
      "23/23 [==============================] - 0s 4ms/step - loss: 0.3109 - accuracy: 0.8787\n",
      "Epoch 49/500\n",
      "23/23 [==============================] - 0s 4ms/step - loss: 0.3090 - accuracy: 0.8706\n",
      "Epoch 50/500\n",
      "23/23 [==============================] - 0s 4ms/step - loss: 0.3080 - accuracy: 0.8787\n",
      "Epoch 51/500\n",
      "23/23 [==============================] - 0s 4ms/step - loss: 0.3100 - accuracy: 0.8760\n",
      "Epoch 52/500\n",
      "23/23 [==============================] - 0s 4ms/step - loss: 0.3067 - accuracy: 0.8733\n",
      "Epoch 53/500\n",
      "23/23 [==============================] - 0s 4ms/step - loss: 0.3063 - accuracy: 0.8760\n",
      "Epoch 54/500\n",
      "23/23 [==============================] - 0s 6ms/step - loss: 0.3061 - accuracy: 0.8842\n",
      "Epoch 55/500\n",
      "23/23 [==============================] - 0s 5ms/step - loss: 0.3079 - accuracy: 0.8760\n",
      "Epoch 56/500\n",
      "23/23 [==============================] - 0s 4ms/step - loss: 0.3048 - accuracy: 0.8774\n",
      "Epoch 57/500\n",
      "23/23 [==============================] - 0s 4ms/step - loss: 0.3046 - accuracy: 0.8747\n",
      "Epoch 58/500\n",
      "23/23 [==============================] - 0s 4ms/step - loss: 0.3048 - accuracy: 0.8747\n",
      "Epoch 59/500\n",
      "23/23 [==============================] - 0s 5ms/step - loss: 0.3028 - accuracy: 0.8801\n",
      "Epoch 60/500\n",
      "23/23 [==============================] - 0s 6ms/step - loss: 0.3037 - accuracy: 0.8801\n",
      "Epoch 61/500\n",
      "23/23 [==============================] - 0s 6ms/step - loss: 0.3038 - accuracy: 0.8774\n",
      "Epoch 62/500\n",
      "23/23 [==============================] - 0s 6ms/step - loss: 0.3028 - accuracy: 0.8787\n",
      "Epoch 63/500\n",
      "23/23 [==============================] - 0s 5ms/step - loss: 0.3029 - accuracy: 0.8787\n",
      "Epoch 64/500\n",
      "23/23 [==============================] - 0s 5ms/step - loss: 0.3025 - accuracy: 0.8801\n",
      "Epoch 65/500\n",
      "23/23 [==============================] - 0s 5ms/step - loss: 0.3032 - accuracy: 0.8842\n",
      "Epoch 66/500\n",
      "23/23 [==============================] - 0s 5ms/step - loss: 0.3001 - accuracy: 0.8815\n",
      "Epoch 67/500\n",
      "23/23 [==============================] - 0s 6ms/step - loss: 0.3013 - accuracy: 0.8828\n",
      "Epoch 68/500\n",
      "23/23 [==============================] - 0s 4ms/step - loss: 0.3052 - accuracy: 0.8828\n",
      "Epoch 69/500\n",
      "23/23 [==============================] - 0s 4ms/step - loss: 0.3032 - accuracy: 0.8760\n",
      "Epoch 70/500\n",
      "23/23 [==============================] - 0s 4ms/step - loss: 0.3002 - accuracy: 0.8801\n",
      "Epoch 71/500\n",
      "23/23 [==============================] - 0s 4ms/step - loss: 0.3011 - accuracy: 0.8815\n",
      "Epoch 72/500\n",
      "23/23 [==============================] - 0s 4ms/step - loss: 0.2986 - accuracy: 0.8801\n",
      "Epoch 73/500\n",
      "23/23 [==============================] - 0s 4ms/step - loss: 0.2970 - accuracy: 0.8815\n",
      "Epoch 74/500\n",
      "23/23 [==============================] - 0s 4ms/step - loss: 0.3004 - accuracy: 0.8760\n",
      "Epoch 75/500\n",
      "23/23 [==============================] - 0s 5ms/step - loss: 0.2995 - accuracy: 0.8801\n",
      "Epoch 76/500\n",
      "23/23 [==============================] - 0s 5ms/step - loss: 0.2975 - accuracy: 0.8856\n",
      "Epoch 77/500\n",
      "23/23 [==============================] - 0s 5ms/step - loss: 0.2962 - accuracy: 0.8842\n",
      "Epoch 78/500\n",
      "23/23 [==============================] - 0s 4ms/step - loss: 0.2983 - accuracy: 0.8815\n",
      "Epoch 79/500\n",
      "23/23 [==============================] - 0s 4ms/step - loss: 0.2976 - accuracy: 0.8801\n",
      "Epoch 80/500\n",
      "23/23 [==============================] - 0s 4ms/step - loss: 0.3011 - accuracy: 0.8760\n",
      "Epoch 81/500\n",
      "23/23 [==============================] - 0s 7ms/step - loss: 0.3008 - accuracy: 0.8856\n",
      "Epoch 82/500\n",
      "23/23 [==============================] - 0s 4ms/step - loss: 0.2966 - accuracy: 0.8787\n",
      "Epoch 83/500\n"
     ]
    },
    {
     "name": "stdout",
     "output_type": "stream",
     "text": [
      "23/23 [==============================] - 0s 5ms/step - loss: 0.2963 - accuracy: 0.8815\n",
      "Epoch 84/500\n",
      "23/23 [==============================] - 0s 6ms/step - loss: 0.2973 - accuracy: 0.8787\n",
      "Epoch 85/500\n",
      "23/23 [==============================] - 0s 4ms/step - loss: 0.2963 - accuracy: 0.8842\n"
     ]
    }
   ],
   "source": [
    "tf.random.set_seed(42)\n",
    "callback = tf.keras.callbacks.EarlyStopping(monitor='loss', patience=8)\n",
    "\n",
    "model = tf.keras.Sequential([\n",
    "    tf.keras.layers.Dense(100, activation=\"gelu\"),\n",
    "    tf.keras.layers.Dense(10, activation=\"gelu\"),\n",
    "    tf.keras.layers.Dense(1, activation=\"sigmoid\")\n",
    "])\n",
    "\n",
    "model.compile(loss=tf.keras.losses.BinaryCrossentropy(),\n",
    "              optimizer=tf.keras.optimizers.Adam(lr=0.001),\n",
    "              metrics=[\"accuracy\"])\n",
    "\n",
    "history = model.fit(X_train_normal, y_train, callbacks=[callback], epochs=500)"
   ]
  },
  {
   "cell_type": "code",
   "execution_count": 9,
   "metadata": {
    "colab": {
     "base_uri": "https://localhost:8080/"
    },
    "id": "-ZapymTG3HDl",
    "outputId": "f36a8835-406f-4daf-e391-646babab81fe"
   },
   "outputs": [
    {
     "name": "stdout",
     "output_type": "stream",
     "text": [
      "6/6 [==============================] - 0s 3ms/step - loss: 0.3543 - accuracy: 0.8587\n"
     ]
    },
    {
     "data": {
      "text/plain": [
       "[0.35432472825050354, 0.8586956262588501]"
      ]
     },
     "execution_count": 9,
     "metadata": {},
     "output_type": "execute_result"
    }
   ],
   "source": [
    "model.evaluate(X_test_normal, y_test)"
   ]
  },
  {
   "cell_type": "code",
   "execution_count": 10,
   "metadata": {
    "colab": {
     "base_uri": "https://localhost:8080/",
     "height": 442
    },
    "id": "0v5wu9hz3c5l",
    "outputId": "1f3b6c51-fef1-4935-a843-0289350f418a"
   },
   "outputs": [
    {
     "data": {
      "image/png": "[encoded data removed]",
      "text/plain": [
       "<Figure size 720x504 with 1 Axes>"
      ]
     },
     "metadata": {
      "needs_background": "light"
     },
     "output_type": "display_data"
    }
   ],
   "source": [
    "# Plot history\n",
    "pd.DataFrame(history.history).plot(figsize=(10, 7))\n",
    "plt.ylabel(\"loss\")\n",
    "plt.xlabel(\"epochs\");"
   ]
  },
  {
   "cell_type": "code",
   "execution_count": 11,
   "metadata": {
    "id": "eePdXvhk6qjF"
   },
   "outputs": [
    {
     "name": "stdout",
     "output_type": "stream",
     "text": [
      "6/6 [==============================] - 0s 3ms/step\n"
     ]
    }
   ],
   "source": [
    "from sklearn.metrics import confusion_matrix\n",
    "\n",
    "# Make predictions\n",
    "y_pred = model.predict(X_test_normal)"
   ]
  },
  {
   "cell_type": "code",
   "execution_count": 12,
   "metadata": {
    "colab": {
     "base_uri": "https://localhost:8080/"
    },
    "id": "Aa4UNHW_6ups",
    "outputId": "ef46fc00-ed2b-438e-8f82-f0ac317c6d3d"
   },
   "outputs": [
    {
     "data": {
      "text/plain": [
       "(668    0\n",
       " 30     1\n",
       " 377    1\n",
       " 535    1\n",
       " 807    0\n",
       " 793    1\n",
       " 363    1\n",
       " 583    0\n",
       " 165    1\n",
       " 483    1\n",
       " Name: HeartDisease, dtype: int64,\n",
       " array([[0.01920222],\n",
       "        [0.22477306],\n",
       "        [0.94023645],\n",
       "        [0.9518745 ],\n",
       "        [0.01112785],\n",
       "        [0.8104624 ],\n",
       "        [0.9155043 ],\n",
       "        [0.1589671 ],\n",
       "        [0.7966247 ],\n",
       "        [0.9682921 ]], dtype=float32))"
      ]
     },
     "execution_count": 12,
     "metadata": {},
     "output_type": "execute_result"
    }
   ],
   "source": [
    "y_test[:10], y_pred[:10]"
   ]
  },
  {
   "cell_type": "code",
   "execution_count": 13,
   "metadata": {
    "colab": {
     "base_uri": "https://localhost:8080/"
    },
    "id": "pfZMFxPu6-to",
    "outputId": "8b7c47b5-e165-4f8e-eef7-25021355ab48"
   },
   "outputs": [
    {
     "data": {
      "text/plain": [
       "<tf.Tensor: shape=(10, 1), dtype=float32, numpy=\n",
       "array([[0.],\n",
       "       [0.],\n",
       "       [1.],\n",
       "       [1.],\n",
       "       [0.],\n",
       "       [1.],\n",
       "       [1.],\n",
       "       [0.],\n",
       "       [1.],\n",
       "       [1.]], dtype=float32)>"
      ]
     },
     "execution_count": 13,
     "metadata": {},
     "output_type": "execute_result"
    }
   ],
   "source": [
    "# Convert our prediction probabilities to binary format and view the first 10 \n",
    "y_pred_binary = tf.round(y_pred)\n",
    "y_pred_binary[:10]"
   ]
  },
  {
   "cell_type": "code",
   "execution_count": 14,
   "metadata": {
    "colab": {
     "base_uri": "https://localhost:8080/",
     "height": 574
    },
    "id": "Ofx84KYC5jnR",
    "outputId": "a03c3d26-0500-4d9e-8376-88949617cbc5"
   },
   "outputs": [
    {
     "data": {
      "image/png": "[encoded data removed]",
      "text/plain": [
       "<Figure size 720x720 with 2 Axes>"
      ]
     },
     "metadata": {
      "needs_background": "light"
     },
     "output_type": "display_data"
    }
   ],
   "source": [
    "import itertools\n",
    "\n",
    "# Create the confusion metrix\n",
    "cm = confusion_matrix(y_test, y_pred_binary)\n",
    "cm_norm = cm.astype(\"float\") / cm.sum(axis=1)[:, np.newaxis] # normalize our confusion metrix\n",
    "n_classes = cm.shape[0]\n",
    "\n",
    "# Let's prettify it\n",
    "fig, ax = plt.subplots(figsize=(10, 10))\n",
    "# Create a matrix plot\n",
    "cax = ax.matshow(cm, cmap=plt.cm.Blues)\n",
    "fig.colorbar(cax)\n",
    "\n",
    "# Create classes\n",
    "classes = False\n",
    "\n",
    "if classes:\n",
    "  labels = classes\n",
    "else:\n",
    "  labels = np.arange(cm.shape[0])\n",
    "\n",
    "# Label axes\n",
    "ax.set(title=\"Confusion Matrix\",\n",
    "       xlabel=\"Predicted\",\n",
    "       ylabel=\"True Label\",\n",
    "       xticks=np.arange(n_classes),\n",
    "       yticks=np.arange(n_classes),\n",
    "       xticklabels=labels,\n",
    "       yticklabels=labels)\n",
    "\n",
    "# Set x-axis labels to bottom\n",
    "ax.xaxis.set_label_position(\"bottom\")\n",
    "ax.xaxis.tick_bottom()\n",
    "\n",
    "# Adjust label size\n",
    "ax.yaxis.label.set_size(20)\n",
    "ax.xaxis.label.set_size(20)\n",
    "ax.title.set_size(25)\n",
    "\n",
    "\n",
    "\n",
    "# Set threshold for different colors\n",
    "threshold = (cm.max() + cm.min()) / 2.\n",
    "\n",
    "# Plot the text on each cell\n",
    "for i, j in itertools.product(range(cm.shape[0]), range(cm.shape[1])):\n",
    "  plt.text(j, i, f\"{cm[i, j]} ({cm_norm[i, j]*100:.1f}%)\",\n",
    "           horizontalalignment=\"center\",\n",
    "           color=\"white\" if cm[i, j] > threshold else \"black\",\n",
    "           size=15)"
   ]
  },
  {
   "cell_type": "code",
   "execution_count": null,
   "metadata": {
    "id": "QiPNkMVD6gwX"
   },
   "outputs": [],
   "source": []
  },
  {
   "cell_type": "code",
   "execution_count": null,
   "metadata": {
    "id": "WqK7CKzE_VIb"
   },
   "outputs": [],
   "source": []
  }
 ],
 "metadata": {
  "colab": {
   "provenance": []
  },
  "kernelspec": {
   "display_name": "Python 3 (ipykernel)",
   "language": "python",
   "name": "python3"
  },
  "language_info": {
   "codemirror_mode": {
    "name": "ipython",
    "version": 3
   },
   "file_extension": ".py",
   "mimetype": "text/x-python",
   "name": "python",
   "nbconvert_exporter": "python",
   "pygments_lexer": "ipython3",
   "version": "3.9.7"
  }
 },
 "nbformat": 4,
 "nbformat_minor": 1
}
